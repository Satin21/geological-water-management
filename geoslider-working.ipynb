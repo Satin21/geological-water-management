{
 "cells": [
  {
   "cell_type": "code",
   "execution_count": null,
   "metadata": {},
   "outputs": [],
   "source": [
    "import numpy as np\n",
    "import pandas as pd\n",
    "import xarray as xr\n",
    "import holoviews as hv\n",
    "import geoviews as gv\n",
    "import geoviews.feature as gf\n",
    "from cartopy import crs\n",
    "hv.notebook_extension('bokeh')\n",
    "import glob"
   ]
  },
  {
   "cell_type": "code",
   "execution_count": null,
   "metadata": {},
   "outputs": [],
   "source": [
    "import modules as mod"
   ]
  },
  {
   "cell_type": "code",
   "execution_count": null,
   "metadata": {},
   "outputs": [],
   "source": [
    "data = np.array([mod.load(fname) for fname in glob.glob('../data/*.asc')])"
   ]
  },
  {
   "cell_type": "code",
   "execution_count": null,
   "metadata": {},
   "outputs": [],
   "source": [
    "%%output size=200\n",
    "\n",
    "month = list(range(1,4))\n",
    "lati_points, long_points = mod.get_lat_long(data)\n",
    "da = xr.DataArray(\n",
    "    data,\n",
    "    coords=[month, lati_points, long_points],\n",
    "    dims=['Month', 'latitude', 'longitude'],\n",
    "    name='Temperature')\n",
    "ds = gv.Dataset(da)\n",
    "ds.to.image(kdims=['longitude', 'latitude'], vdims=['Temperature']).options(cmap='inferno', colorbar=True)*gf.coastline\n",
    "\n"
   ]
  }
 ],
 "metadata": {
  "language_info": {
   "name": "python",
   "pygments_lexer": "ipython3"
  }
 },
 "nbformat": 4,
 "nbformat_minor": 2
}
