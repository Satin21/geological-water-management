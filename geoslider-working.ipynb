{
 "cells": [
  {
   "cell_type": "code",
   "execution_count": null,
   "metadata": {},
   "outputs": [],
   "source": [
    "import numpy as np\n",
    "import pandas as pd\n",
    "import xarray as xr\n",
    "import holoviews as hv\n",
    "import geoviews as gv\n",
    "import geoviews.feature as gf\n",
    "from cartopy import crs\n",
    "hv.notebook_extension('bokeh')\n",
    "import glob"
   ]
  },
  {
   "cell_type": "code",
   "execution_count": null,
   "metadata": {},
   "outputs": [],
   "source": [
    "import modules as mod"
   ]
  },
  {
   "cell_type": "code",
   "execution_count": null,
   "metadata": {},
   "outputs": [],
   "source": [
    "data = np.array([mod.load(fname) for fname in glob.glob('data/*.asc')])"
   ]
  },
  {
   "cell_type": "code",
   "execution_count": null,
   "metadata": {
    "scrolled": true
   },
   "outputs": [],
   "source": [
    "%%output size=200\n",
    "\n",
    "month = list(range(1,4))\n",
    "lati_points, long_points = mod.get_lat_long(data)\n",
    "da = xr.DataArray(\n",
    "    data,\n",
    "    coords=[month, lati_points, long_points],\n",
    "    dims=['Month', 'latitude', 'longitude'],\n",
    "    name='Temperature')\n",
    "ds = gv.Dataset(da)\n",
    "ds.to.image(kdims=['longitude', 'latitude'], vdims=['Temperature']).options(cmap='inferno', colorbar=True)*gf.coastline\n",
    "\n"
   ]
  }
 ],
 "metadata": {
  "kernelspec": {
   "display_name": "Python 3",
   "language": "python",
   "name": "python3"
  },
  "language_info": {
   "codemirror_mode": {
    "name": "ipython",
    "version": 3
   },
   "file_extension": ".py",
   "mimetype": "text/x-python",
   "name": "python",
   "nbconvert_exporter": "python",
   "pygments_lexer": "ipython3",
   "version": "3.6.6"
  }
 },
 "nbformat": 4,
 "nbformat_minor": 2
}
